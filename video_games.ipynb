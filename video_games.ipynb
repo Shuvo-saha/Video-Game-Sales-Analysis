{
 "cells": [
  {
   "cell_type": "code",
   "execution_count": 33,
   "metadata": {},
   "outputs": [],
   "source": [
    "import pandas as pd\r\n",
    "import numpy as np"
   ]
  },
  {
   "cell_type": "code",
   "execution_count": 34,
   "metadata": {},
   "outputs": [],
   "source": [
    "ratings_1 = pd.read_csv(\"Metacritic/metacritic_games.csv\")\r\n",
    "ratings_2 = pd.read_csv(\"Metacritic/Metacritic-Game Releases by Score.csv\")\r\n",
    "sales = pd.read_csv(\"Sales/vgsales-12-4-2019-short.csv\")"
   ]
  },
  {
   "cell_type": "markdown",
   "metadata": {},
   "source": [
    "# Ratings"
   ]
  },
  {
   "cell_type": "code",
   "execution_count": 35,
   "metadata": {},
   "outputs": [],
   "source": [
    "ratings_1[\"critic_count\"] = ratings_1[[\"positive_critics\",\"neutral_critics\", \"negative_critics\"]].sum(axis=1)\r\n",
    "ratings_1[\"users_count\"] = ratings_1[[\"positive_users\",\"neutral_users\", \"negative_users\"]].sum(axis=1)\r\n",
    "ratings_1 = ratings_1[[\"game\",\"metascore\",\"release_date\",\"platform\"]]"
   ]
  },
  {
   "cell_type": "code",
   "execution_count": 36,
   "metadata": {},
   "outputs": [],
   "source": [
    "ratings_2[\"Rating\"] = ratings_2[\"Rating\"]*10\r\n",
    "ratings_2.rename(columns={\"Game_Title\":\"game\", \"Date\":\"release_date\",\"Rating\":\"metascore\",\"Platform\":\"platform\"}, inplace=True)\r\n",
    "ratings_2 = ratings_2[[\"game\",\"metascore\",\"release_date\",\"platform\"]]"
   ]
  },
  {
   "cell_type": "code",
   "execution_count": 37,
   "metadata": {},
   "outputs": [],
   "source": [
    "common_games = list(set(ratings_1[\"game\"]).intersection(ratings_2[\"game\"]))\r\n",
    "combined_ratings = pd.concat([ratings_1,ratings_2])"
   ]
  },
  {
   "cell_type": "code",
   "execution_count": 38,
   "metadata": {},
   "outputs": [],
   "source": [
    "#combined_ratings[combined_ratings.duplicated([\"game\",\"platform\"],keep=False)].sort_values(\"game\")\r\n",
    "combined_ratings.drop_duplicates([\"game\",\"platform\"], inplace=True)"
   ]
  },
  {
   "cell_type": "code",
   "execution_count": 39,
   "metadata": {},
   "outputs": [
    {
     "data": {
      "text/html": [
       "<div>\n",
       "<style scoped>\n",
       "    .dataframe tbody tr th:only-of-type {\n",
       "        vertical-align: middle;\n",
       "    }\n",
       "\n",
       "    .dataframe tbody tr th {\n",
       "        vertical-align: top;\n",
       "    }\n",
       "\n",
       "    .dataframe thead th {\n",
       "        text-align: right;\n",
       "    }\n",
       "</style>\n",
       "<table border=\"1\" class=\"dataframe\">\n",
       "  <thead>\n",
       "    <tr style=\"text-align: right;\">\n",
       "      <th></th>\n",
       "      <th>game</th>\n",
       "      <th>metascore</th>\n",
       "      <th>release_date</th>\n",
       "      <th>platform</th>\n",
       "      <th>date</th>\n",
       "    </tr>\n",
       "  </thead>\n",
       "  <tbody>\n",
       "    <tr>\n",
       "      <th>0</th>\n",
       "      <td>Portal 2</td>\n",
       "      <td>95.0</td>\n",
       "      <td>Apr 18, 2011</td>\n",
       "      <td>PC</td>\n",
       "      <td>2011-04-18</td>\n",
       "    </tr>\n",
       "    <tr>\n",
       "      <th>1</th>\n",
       "      <td>The Elder Scrolls V: Skyrim</td>\n",
       "      <td>94.0</td>\n",
       "      <td>Nov 10, 2011</td>\n",
       "      <td>PC</td>\n",
       "      <td>2011-11-10</td>\n",
       "    </tr>\n",
       "    <tr>\n",
       "      <th>2</th>\n",
       "      <td>The Legend of Zelda: Ocarina of Time 3D</td>\n",
       "      <td>94.0</td>\n",
       "      <td>Jun 19, 2011</td>\n",
       "      <td>3DS</td>\n",
       "      <td>2011-06-19</td>\n",
       "    </tr>\n",
       "    <tr>\n",
       "      <th>3</th>\n",
       "      <td>Batman: Arkham City</td>\n",
       "      <td>91.0</td>\n",
       "      <td>Nov 21, 2011</td>\n",
       "      <td>PC</td>\n",
       "      <td>2011-11-21</td>\n",
       "    </tr>\n",
       "    <tr>\n",
       "      <th>4</th>\n",
       "      <td>Super Mario 3D Land</td>\n",
       "      <td>90.0</td>\n",
       "      <td>Nov 13, 2011</td>\n",
       "      <td>3DS</td>\n",
       "      <td>2011-11-13</td>\n",
       "    </tr>\n",
       "    <tr>\n",
       "      <th>...</th>\n",
       "      <td>...</td>\n",
       "      <td>...</td>\n",
       "      <td>...</td>\n",
       "      <td>...</td>\n",
       "      <td>...</td>\n",
       "    </tr>\n",
       "    <tr>\n",
       "      <th>16693</th>\n",
       "      <td>Metal Gear Survive</td>\n",
       "      <td>14.0</td>\n",
       "      <td>February 20, 2018</td>\n",
       "      <td>PlayStation 4</td>\n",
       "      <td>2018-02-20</td>\n",
       "    </tr>\n",
       "    <tr>\n",
       "      <th>16694</th>\n",
       "      <td>Destiny 2: Curse of Osiris</td>\n",
       "      <td>14.0</td>\n",
       "      <td>December 5, 2017</td>\n",
       "      <td>Xbox One</td>\n",
       "      <td>2017-12-05</td>\n",
       "    </tr>\n",
       "    <tr>\n",
       "      <th>16695</th>\n",
       "      <td>Ghostbusters</td>\n",
       "      <td>14.0</td>\n",
       "      <td>July 12, 2016</td>\n",
       "      <td>PlayStation 4</td>\n",
       "      <td>2016-07-12</td>\n",
       "    </tr>\n",
       "    <tr>\n",
       "      <th>16696</th>\n",
       "      <td>Mindjack</td>\n",
       "      <td>14.0</td>\n",
       "      <td>January 18, 2011</td>\n",
       "      <td>Xbox 360</td>\n",
       "      <td>2011-01-18</td>\n",
       "    </tr>\n",
       "    <tr>\n",
       "      <th>16697</th>\n",
       "      <td>FIFA 20</td>\n",
       "      <td>13.0</td>\n",
       "      <td>September 24, 2019</td>\n",
       "      <td>Xbox One</td>\n",
       "      <td>2019-09-24</td>\n",
       "    </tr>\n",
       "  </tbody>\n",
       "</table>\n",
       "<p>19472 rows × 5 columns</p>\n",
       "</div>"
      ],
      "text/plain": [
       "                                          game  metascore        release_date  \\\n",
       "0                                     Portal 2       95.0        Apr 18, 2011   \n",
       "1                  The Elder Scrolls V: Skyrim       94.0        Nov 10, 2011   \n",
       "2      The Legend of Zelda: Ocarina of Time 3D       94.0        Jun 19, 2011   \n",
       "3                          Batman: Arkham City       91.0        Nov 21, 2011   \n",
       "4                          Super Mario 3D Land       90.0        Nov 13, 2011   \n",
       "...                                        ...        ...                 ...   \n",
       "16693                       Metal Gear Survive       14.0   February 20, 2018   \n",
       "16694               Destiny 2: Curse of Osiris       14.0    December 5, 2017   \n",
       "16695                             Ghostbusters       14.0       July 12, 2016   \n",
       "16696                                 Mindjack       14.0    January 18, 2011   \n",
       "16697                                  FIFA 20       13.0  September 24, 2019   \n",
       "\n",
       "            platform       date  \n",
       "0                 PC 2011-04-18  \n",
       "1                 PC 2011-11-10  \n",
       "2                3DS 2011-06-19  \n",
       "3                 PC 2011-11-21  \n",
       "4                3DS 2011-11-13  \n",
       "...              ...        ...  \n",
       "16693  PlayStation 4 2018-02-20  \n",
       "16694       Xbox One 2017-12-05  \n",
       "16695  PlayStation 4 2016-07-12  \n",
       "16696       Xbox 360 2011-01-18  \n",
       "16697       Xbox One 2019-09-24  \n",
       "\n",
       "[19472 rows x 5 columns]"
      ]
     },
     "execution_count": 39,
     "metadata": {},
     "output_type": "execute_result"
    }
   ],
   "source": [
    "combined_ratings[\"date\"] = pd.to_datetime(combined_ratings[\"release_date\"])\r\n",
    "combined_ratings"
   ]
  },
  {
   "cell_type": "markdown",
   "metadata": {},
   "source": [
    "# Sales"
   ]
  },
  {
   "cell_type": "code",
   "execution_count": 40,
   "metadata": {},
   "outputs": [],
   "source": [
    "sales[[\"Global_Sales\",\"Total_Shipped\"]] = sales[[\"Global_Sales\",\"Total_Shipped\"]].fillna(0)\r\n",
    "sales[\"sales\"] = sales[[\"Global_Sales\",\"Total_Shipped\"]].sum(axis=1)\r\n",
    "sales.rename(columns={\"Name\":\"game\",\"Platform\":\"platform\"}, inplace=True)\r\n",
    "sales = sales[[\"game\",\"platform\",\"sales\"]]"
   ]
  },
  {
   "cell_type": "code",
   "execution_count": 41,
   "metadata": {},
   "outputs": [],
   "source": [
    "sales[\"sales\"] = sales[\"sales\"]*10**6"
   ]
  },
  {
   "cell_type": "markdown",
   "metadata": {},
   "source": [
    "# Combine"
   ]
  },
  {
   "cell_type": "code",
   "execution_count": 42,
   "metadata": {},
   "outputs": [],
   "source": [
    "sales = sales.groupby([\"game\"], as_index=False)[\"sales\"].sum()"
   ]
  },
  {
   "cell_type": "code",
   "execution_count": 43,
   "metadata": {},
   "outputs": [],
   "source": [
    "combined_ratings = combined_ratings.groupby(['game'], as_index=False).agg({'game': 'first', 'metascore': np.mean, \"date\":\"first\"})"
   ]
  },
  {
   "cell_type": "code",
   "execution_count": 44,
   "metadata": {},
   "outputs": [],
   "source": [
    "combined =  pd.merge(sales,combined_ratings,on=\"game\",how=\"inner\")"
   ]
  },
  {
   "cell_type": "code",
   "execution_count": 52,
   "metadata": {},
   "outputs": [
    {
     "data": {
      "text/plain": [
       "<AxesSubplot:xlabel='sales', ylabel='metascore'>"
      ]
     },
     "execution_count": 52,
     "metadata": {},
     "output_type": "execute_result"
    },
    {
     "data": {
      "image/png": "[encoded data removed]",
      "text/plain": [
       "<Figure size 432x288 with 1 Axes>"
      ]
     },
     "metadata": {
      "needs_background": "light"
     },
     "output_type": "display_data"
    }
   ],
   "source": [
    "combined.plot(\"sales\",\"metascore\", kind=\"scatter\", xlim=(2,10*10**6))"
   ]
  },
  {
   "cell_type": "code",
   "execution_count": 92,
   "metadata": {},
   "outputs": [
    {
     "data": {
      "text/html": [
       "<div>\n",
       "<style scoped>\n",
       "    .dataframe tbody tr th:only-of-type {\n",
       "        vertical-align: middle;\n",
       "    }\n",
       "\n",
       "    .dataframe tbody tr th {\n",
       "        vertical-align: top;\n",
       "    }\n",
       "\n",
       "    .dataframe thead th {\n",
       "        text-align: right;\n",
       "    }\n",
       "</style>\n",
       "<table border=\"1\" class=\"dataframe\">\n",
       "  <thead>\n",
       "    <tr style=\"text-align: right;\">\n",
       "      <th></th>\n",
       "      <th>metascore</th>\n",
       "      <th>sales</th>\n",
       "    </tr>\n",
       "  </thead>\n",
       "  <tbody>\n",
       "    <tr>\n",
       "      <th>metascore</th>\n",
       "      <td>1.000000</td>\n",
       "      <td>0.109035</td>\n",
       "    </tr>\n",
       "    <tr>\n",
       "      <th>sales</th>\n",
       "      <td>0.109035</td>\n",
       "      <td>1.000000</td>\n",
       "    </tr>\n",
       "  </tbody>\n",
       "</table>\n",
       "</div>"
      ],
      "text/plain": [
       "           metascore     sales\n",
       "metascore   1.000000  0.109035\n",
       "sales       0.109035  1.000000"
      ]
     },
     "execution_count": 92,
     "metadata": {},
     "output_type": "execute_result"
    }
   ],
   "source": [
    "combined[[\"metascore\",\"sales\"]].corr()"
   ]
  },
  {
   "cell_type": "code",
   "execution_count": 53,
   "metadata": {},
   "outputs": [],
   "source": [
    "test= pd.read_csv(\"Kaggle\\Video_Game_Sales_as_of_Jan_2017.csv\")\r\n"
   ]
  },
  {
   "cell_type": "code",
   "execution_count": 56,
   "metadata": {},
   "outputs": [
    {
     "data": {
      "text/plain": [
       "<AxesSubplot:xlabel='Global_Sales', ylabel='Critic_Score'>"
      ]
     },
     "execution_count": 56,
     "metadata": {},
     "output_type": "execute_result"
    },
    {
     "data": {
      "image/png": "[encoded data removed]",
      "text/plain": [
       "<Figure size 432x288 with 1 Axes>"
      ]
     },
     "metadata": {
      "needs_background": "light"
     },
     "output_type": "display_data"
    }
   ],
   "source": [
    "test.plot(\"Global_Sales\",\"Critic_Score\", kind=\"scatter\", xlim=(1,15))"
   ]
  },
  {
   "cell_type": "code",
   "execution_count": 69,
   "metadata": {},
   "outputs": [],
   "source": [
    "test_below_50 = test[test[\"Critic_Score\"]<50].sort_values(\"Global_Sales\", ascending=False)"
   ]
  },
  {
   "cell_type": "code",
   "execution_count": 89,
   "metadata": {},
   "outputs": [
    {
     "data": {
      "text/plain": [
       "<seaborn.axisgrid.FacetGrid at 0x215d33fc5b0>"
      ]
     },
     "execution_count": 89,
     "metadata": {},
     "output_type": "execute_result"
    },
    {
     "data": {
      "image/png": "[encoded data removed]",
      "text/plain": [
       "<Figure size 360x360 with 1 Axes>"
      ]
     },
     "metadata": {
      "needs_background": "light"
     },
     "output_type": "display_data"
    }
   ],
   "source": [
    "import seaborn as sns\r\n",
    "import matplotlib.pyplot as plt\r\n",
    "test_over_50 = test.loc[(test[\"Critic_Score\"]>50) & (test[\"Global_Sales\"]>1)].sort_values(\"Global_Sales\", ascending=False)\r\n",
    "test_over_50= test_over_50[test_over_50[\"Global_Sales\"]>0]\r\n",
    "sns.displot(test_over_50, x=\"Global_Sales\")"
   ]
  },
  {
   "cell_type": "code",
   "execution_count": 91,
   "metadata": {},
   "outputs": [
    {
     "data": {
      "text/html": [
       "<div>\n",
       "<style scoped>\n",
       "    .dataframe tbody tr th:only-of-type {\n",
       "        vertical-align: middle;\n",
       "    }\n",
       "\n",
       "    .dataframe tbody tr th {\n",
       "        vertical-align: top;\n",
       "    }\n",
       "\n",
       "    .dataframe thead th {\n",
       "        text-align: right;\n",
       "    }\n",
       "</style>\n",
       "<table border=\"1\" class=\"dataframe\">\n",
       "  <thead>\n",
       "    <tr style=\"text-align: right;\">\n",
       "      <th></th>\n",
       "      <th>Global_Sales</th>\n",
       "      <th>Critic_Score</th>\n",
       "    </tr>\n",
       "  </thead>\n",
       "  <tbody>\n",
       "    <tr>\n",
       "      <th>Global_Sales</th>\n",
       "      <td>1.000000</td>\n",
       "      <td>0.245523</td>\n",
       "    </tr>\n",
       "    <tr>\n",
       "      <th>Critic_Score</th>\n",
       "      <td>0.245523</td>\n",
       "      <td>1.000000</td>\n",
       "    </tr>\n",
       "  </tbody>\n",
       "</table>\n",
       "</div>"
      ],
      "text/plain": [
       "              Global_Sales  Critic_Score\n",
       "Global_Sales      1.000000      0.245523\n",
       "Critic_Score      0.245523      1.000000"
      ]
     },
     "execution_count": 91,
     "metadata": {},
     "output_type": "execute_result"
    }
   ],
   "source": [
    "test[[\"Global_Sales\",\"Critic_Score\"]].corr()"
   ]
  },
  {
   "cell_type": "code",
   "execution_count": 95,
   "metadata": {},
   "outputs": [
    {
     "data": {
      "text/html": [
       "<div>\n",
       "<style scoped>\n",
       "    .dataframe tbody tr th:only-of-type {\n",
       "        vertical-align: middle;\n",
       "    }\n",
       "\n",
       "    .dataframe tbody tr th {\n",
       "        vertical-align: top;\n",
       "    }\n",
       "\n",
       "    .dataframe thead th {\n",
       "        text-align: right;\n",
       "    }\n",
       "</style>\n",
       "<table border=\"1\" class=\"dataframe\">\n",
       "  <thead>\n",
       "    <tr style=\"text-align: right;\">\n",
       "      <th></th>\n",
       "      <th>Name</th>\n",
       "      <th>Platform</th>\n",
       "      <th>Year_of_Release</th>\n",
       "      <th>Genre</th>\n",
       "      <th>Publisher</th>\n",
       "      <th>NA_Sales</th>\n",
       "      <th>EU_Sales</th>\n",
       "      <th>JP_Sales</th>\n",
       "      <th>Other_Sales</th>\n",
       "      <th>Global_Sales</th>\n",
       "      <th>Critic_Score</th>\n",
       "      <th>Critic_Count</th>\n",
       "      <th>User_Score</th>\n",
       "      <th>User_Count</th>\n",
       "      <th>Rating</th>\n",
       "    </tr>\n",
       "  </thead>\n",
       "  <tbody>\n",
       "    <tr>\n",
       "      <th>0</th>\n",
       "      <td>Wii Sports</td>\n",
       "      <td>Wii</td>\n",
       "      <td>2006.0</td>\n",
       "      <td>Sports</td>\n",
       "      <td>Nintendo</td>\n",
       "      <td>41.36</td>\n",
       "      <td>28.96</td>\n",
       "      <td>3.77</td>\n",
       "      <td>8.45</td>\n",
       "      <td>82.54</td>\n",
       "      <td>76.0</td>\n",
       "      <td>51.0</td>\n",
       "      <td>8.0</td>\n",
       "      <td>324.0</td>\n",
       "      <td>E</td>\n",
       "    </tr>\n",
       "    <tr>\n",
       "      <th>1</th>\n",
       "      <td>Super Mario Bros.</td>\n",
       "      <td>NES</td>\n",
       "      <td>1985.0</td>\n",
       "      <td>Platform</td>\n",
       "      <td>Nintendo</td>\n",
       "      <td>29.08</td>\n",
       "      <td>3.58</td>\n",
       "      <td>6.81</td>\n",
       "      <td>0.77</td>\n",
       "      <td>40.24</td>\n",
       "      <td>NaN</td>\n",
       "      <td>NaN</td>\n",
       "      <td>NaN</td>\n",
       "      <td>NaN</td>\n",
       "      <td>NaN</td>\n",
       "    </tr>\n",
       "    <tr>\n",
       "      <th>2</th>\n",
       "      <td>Mario Kart Wii</td>\n",
       "      <td>Wii</td>\n",
       "      <td>2008.0</td>\n",
       "      <td>Racing</td>\n",
       "      <td>Nintendo</td>\n",
       "      <td>15.68</td>\n",
       "      <td>12.80</td>\n",
       "      <td>3.79</td>\n",
       "      <td>3.29</td>\n",
       "      <td>35.57</td>\n",
       "      <td>82.0</td>\n",
       "      <td>73.0</td>\n",
       "      <td>8.3</td>\n",
       "      <td>712.0</td>\n",
       "      <td>E</td>\n",
       "    </tr>\n",
       "    <tr>\n",
       "      <th>3</th>\n",
       "      <td>Wii Sports Resort</td>\n",
       "      <td>Wii</td>\n",
       "      <td>2009.0</td>\n",
       "      <td>Sports</td>\n",
       "      <td>Nintendo</td>\n",
       "      <td>15.61</td>\n",
       "      <td>10.95</td>\n",
       "      <td>3.28</td>\n",
       "      <td>2.95</td>\n",
       "      <td>32.78</td>\n",
       "      <td>80.0</td>\n",
       "      <td>73.0</td>\n",
       "      <td>8.0</td>\n",
       "      <td>193.0</td>\n",
       "      <td>E</td>\n",
       "    </tr>\n",
       "    <tr>\n",
       "      <th>4</th>\n",
       "      <td>Pokemon Red/Pokemon Blue</td>\n",
       "      <td>G</td>\n",
       "      <td>1996.0</td>\n",
       "      <td>Role-Playing</td>\n",
       "      <td>Nintendo</td>\n",
       "      <td>11.27</td>\n",
       "      <td>8.89</td>\n",
       "      <td>10.22</td>\n",
       "      <td>1.00</td>\n",
       "      <td>31.37</td>\n",
       "      <td>NaN</td>\n",
       "      <td>NaN</td>\n",
       "      <td>NaN</td>\n",
       "      <td>NaN</td>\n",
       "      <td>NaN</td>\n",
       "    </tr>\n",
       "    <tr>\n",
       "      <th>...</th>\n",
       "      <td>...</td>\n",
       "      <td>...</td>\n",
       "      <td>...</td>\n",
       "      <td>...</td>\n",
       "      <td>...</td>\n",
       "      <td>...</td>\n",
       "      <td>...</td>\n",
       "      <td>...</td>\n",
       "      <td>...</td>\n",
       "      <td>...</td>\n",
       "      <td>...</td>\n",
       "      <td>...</td>\n",
       "      <td>...</td>\n",
       "      <td>...</td>\n",
       "      <td>...</td>\n",
       "    </tr>\n",
       "    <tr>\n",
       "      <th>17411</th>\n",
       "      <td>Nancy Drew: The Deadly Secret of Olde World Park</td>\n",
       "      <td>DS</td>\n",
       "      <td>2007.0</td>\n",
       "      <td>Adventure</td>\n",
       "      <td>Majesco Entertainment</td>\n",
       "      <td>0.00</td>\n",
       "      <td>0.00</td>\n",
       "      <td>0.00</td>\n",
       "      <td>0.00</td>\n",
       "      <td>0.01</td>\n",
       "      <td>64.0</td>\n",
       "      <td>7.0</td>\n",
       "      <td>NaN</td>\n",
       "      <td>NaN</td>\n",
       "      <td>E</td>\n",
       "    </tr>\n",
       "    <tr>\n",
       "      <th>17412</th>\n",
       "      <td>Fashion Designer: Style Icon</td>\n",
       "      <td>DS</td>\n",
       "      <td>2007.0</td>\n",
       "      <td>Simulation</td>\n",
       "      <td>505 Games</td>\n",
       "      <td>0.00</td>\n",
       "      <td>0.00</td>\n",
       "      <td>0.00</td>\n",
       "      <td>0.00</td>\n",
       "      <td>0.01</td>\n",
       "      <td>NaN</td>\n",
       "      <td>NaN</td>\n",
       "      <td>NaN</td>\n",
       "      <td>NaN</td>\n",
       "      <td>NaN</td>\n",
       "    </tr>\n",
       "    <tr>\n",
       "      <th>17413</th>\n",
       "      <td>Ashita no Joe 2: The Anime Super Remix</td>\n",
       "      <td>PS2</td>\n",
       "      <td>2002.0</td>\n",
       "      <td>Fighting</td>\n",
       "      <td>Capcom</td>\n",
       "      <td>0.00</td>\n",
       "      <td>0.00</td>\n",
       "      <td>0.01</td>\n",
       "      <td>0.00</td>\n",
       "      <td>0.01</td>\n",
       "      <td>NaN</td>\n",
       "      <td>NaN</td>\n",
       "      <td>NaN</td>\n",
       "      <td>NaN</td>\n",
       "      <td>NaN</td>\n",
       "    </tr>\n",
       "    <tr>\n",
       "      <th>17414</th>\n",
       "      <td>NadePro!! Kisama no Seiyuu Yatte Miro!</td>\n",
       "      <td>PS2</td>\n",
       "      <td>2009.0</td>\n",
       "      <td>Adventure</td>\n",
       "      <td>GungHo</td>\n",
       "      <td>0.00</td>\n",
       "      <td>0.00</td>\n",
       "      <td>0.01</td>\n",
       "      <td>0.00</td>\n",
       "      <td>0.01</td>\n",
       "      <td>NaN</td>\n",
       "      <td>NaN</td>\n",
       "      <td>NaN</td>\n",
       "      <td>NaN</td>\n",
       "      <td>NaN</td>\n",
       "    </tr>\n",
       "    <tr>\n",
       "      <th>17415</th>\n",
       "      <td>Brian Lara 2007 Pressure Play</td>\n",
       "      <td>PSP</td>\n",
       "      <td>2007.0</td>\n",
       "      <td>Sports</td>\n",
       "      <td>Codemasters</td>\n",
       "      <td>0.00</td>\n",
       "      <td>0.00</td>\n",
       "      <td>0.00</td>\n",
       "      <td>0.00</td>\n",
       "      <td>0.01</td>\n",
       "      <td>NaN</td>\n",
       "      <td>NaN</td>\n",
       "      <td>NaN</td>\n",
       "      <td>NaN</td>\n",
       "      <td>NaN</td>\n",
       "    </tr>\n",
       "  </tbody>\n",
       "</table>\n",
       "<p>17416 rows × 15 columns</p>\n",
       "</div>"
      ],
      "text/plain": [
       "                                                   Name Platform  \\\n",
       "0                                            Wii Sports      Wii   \n",
       "1                                     Super Mario Bros.      NES   \n",
       "2                                        Mario Kart Wii      Wii   \n",
       "3                                     Wii Sports Resort      Wii   \n",
       "4                              Pokemon Red/Pokemon Blue        G   \n",
       "...                                                 ...      ...   \n",
       "17411  Nancy Drew: The Deadly Secret of Olde World Park       DS   \n",
       "17412                      Fashion Designer: Style Icon       DS   \n",
       "17413            Ashita no Joe 2: The Anime Super Remix      PS2   \n",
       "17414            NadePro!! Kisama no Seiyuu Yatte Miro!      PS2   \n",
       "17415                     Brian Lara 2007 Pressure Play      PSP   \n",
       "\n",
       "       Year_of_Release         Genre              Publisher  NA_Sales  \\\n",
       "0               2006.0        Sports               Nintendo     41.36   \n",
       "1               1985.0      Platform               Nintendo     29.08   \n",
       "2               2008.0        Racing               Nintendo     15.68   \n",
       "3               2009.0        Sports               Nintendo     15.61   \n",
       "4               1996.0  Role-Playing               Nintendo     11.27   \n",
       "...                ...           ...                    ...       ...   \n",
       "17411           2007.0     Adventure  Majesco Entertainment      0.00   \n",
       "17412           2007.0    Simulation              505 Games      0.00   \n",
       "17413           2002.0      Fighting                 Capcom      0.00   \n",
       "17414           2009.0     Adventure                 GungHo      0.00   \n",
       "17415           2007.0        Sports            Codemasters      0.00   \n",
       "\n",
       "       EU_Sales  JP_Sales  Other_Sales  Global_Sales  Critic_Score  \\\n",
       "0         28.96      3.77         8.45         82.54          76.0   \n",
       "1          3.58      6.81         0.77         40.24           NaN   \n",
       "2         12.80      3.79         3.29         35.57          82.0   \n",
       "3         10.95      3.28         2.95         32.78          80.0   \n",
       "4          8.89     10.22         1.00         31.37           NaN   \n",
       "...         ...       ...          ...           ...           ...   \n",
       "17411      0.00      0.00         0.00          0.01          64.0   \n",
       "17412      0.00      0.00         0.00          0.01           NaN   \n",
       "17413      0.00      0.01         0.00          0.01           NaN   \n",
       "17414      0.00      0.01         0.00          0.01           NaN   \n",
       "17415      0.00      0.00         0.00          0.01           NaN   \n",
       "\n",
       "       Critic_Count  User_Score  User_Count Rating  \n",
       "0              51.0         8.0       324.0      E  \n",
       "1               NaN         NaN         NaN    NaN  \n",
       "2              73.0         8.3       712.0      E  \n",
       "3              73.0         8.0       193.0      E  \n",
       "4               NaN         NaN         NaN    NaN  \n",
       "...             ...         ...         ...    ...  \n",
       "17411           7.0         NaN         NaN      E  \n",
       "17412           NaN         NaN         NaN    NaN  \n",
       "17413           NaN         NaN         NaN    NaN  \n",
       "17414           NaN         NaN         NaN    NaN  \n",
       "17415           NaN         NaN         NaN    NaN  \n",
       "\n",
       "[17416 rows x 15 columns]"
      ]
     },
     "execution_count": 95,
     "metadata": {},
     "output_type": "execute_result"
    }
   ],
   "source": [
    "test"
   ]
  },
  {
   "cell_type": "code",
   "execution_count": null,
   "metadata": {},
   "outputs": [],
   "source": []
  },
  {
   "cell_type": "code",
   "execution_count": null,
   "metadata": {},
   "outputs": [],
   "source": []
  }
 ],
 "metadata": {
  "interpreter": {
   "hash": "658a35ca2e5520c0b77641a0585c447eab292056bd6cf5bdd7fe30f91420de9e"
  },
  "kernelspec": {
   "display_name": "Python 3.9.5 64-bit ('azure_env_2': conda)",
   "name": "python3"
  },
  "language_info": {
   "codemirror_mode": {
    "name": "ipython",
    "version": 3
   },
   "file_extension": ".py",
   "mimetype": "text/x-python",
   "name": "python",
   "nbconvert_exporter": "python",
   "pygments_lexer": "ipython3",
   "version": "3.9.5"
  },
  "orig_nbformat": 4
 },
 "nbformat": 4,
 "nbformat_minor": 2
}